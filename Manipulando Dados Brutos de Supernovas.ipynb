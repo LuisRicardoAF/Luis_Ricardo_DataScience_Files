{
 "cells": [
  {
   "cell_type": "markdown",
   "metadata": {},
   "source": [
    "# Análise de Fases Espectrais em Supernovas de Tipo Ia\n",
    "# Manipulação de Arquivos de Supernovas"
   ]
  },
  {
   "cell_type": "markdown",
   "metadata": {},
   "source": [
    "### Aluno: Luis Ricardo Arantes Filho - Doutorando CAP INPE\n",
    "### Disciplina - CAP394 - Introduction to Data Science"
   ]
  },
  {
   "cell_type": "markdown",
   "metadata": {},
   "source": [
    "# <p align=\"center\">\n",
    "A análise de supernovas compreendeu a avaliação do acervo do Cfa (Harvard Smithsonian Center for Astrophysics) [19, 20, 21, 22, 23]. Este acervo contém supernovas de tipo Ia e supernovas de colapso de núcleo em estrelas massivas (Tipos: Ib, Ic e II), contabilizando um total de 3697 espectros de 588 supernovas diferentes. A tabela 1 indica os dados utilizados, contemplando as referencias dos bancos de dados de espectros, a quantidade de supernovas, o tipo de supernova, a quantidade de espectros, a fase espectral mínima (dias) do conjunto e a fase espectral máxima (dias) do conjunto.\n",
    "</p>"
   ]
  },
  {
   "cell_type": "code",
   "execution_count": 3,
   "metadata": {},
   "outputs": [
    {
     "data": {
      "image/png": "[encoded data removed]",
      "text/plain": [
       "<IPython.core.display.Image object>"
      ]
     },
     "execution_count": 3,
     "metadata": {
      "image/png": {
       "height": 400,
       "width": 400
      }
     },
     "output_type": "execute_result"
    }
   ],
   "source": [
    "from IPython.display import Image\n",
    "Image(filename=\"C:/Users/Ricardinho/Desktop/tabela_dados.png\",width=400,height=400)"
   ]
  },
  {
   "cell_type": "code",
   "execution_count": null,
   "metadata": {},
   "outputs": [],
   "source": []
  }
 ],
 "metadata": {
  "kernelspec": {
   "display_name": "Python 3",
   "language": "python",
   "name": "python3"
  },
  "language_info": {
   "codemirror_mode": {
    "name": "ipython",
    "version": 3
   },
   "file_extension": ".py",
   "mimetype": "text/x-python",
   "name": "python",
   "nbconvert_exporter": "python",
   "pygments_lexer": "ipython3",
   "version": "3.6.5"
  }
 },
 "nbformat": 4,
 "nbformat_minor": 2
}
